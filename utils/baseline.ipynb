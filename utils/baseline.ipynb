{
 "cells": [
  {
   "cell_type": "code",
   "execution_count": null,
   "metadata": {},
   "outputs": [],
   "source": [
    "# definir los imports en esta celda\n",
    "from nltk.corpus import stopwords\n",
    "from sklearn.feature_extraction.text import CountVectorizer\n",
    "\n",
    "import numpy as np\n",
    "import pandas as pd"
   ]
  },
  {
   "cell_type": "code",
   "execution_count": null,
   "metadata": {},
   "outputs": [],
   "source": [
    "# dataset locate\n",
    "dataset_path = \"\"\n",
    "ds = pd.read_csv(dataset_path, sep='\\t')"
   ]
  },
  {
   "cell_type": "code",
   "execution_count": null,
   "metadata": {},
   "outputs": [],
   "source": [
    "# correr solo 1 vez\n",
    "# descargamos stopwords para crear posteriormente la bag of words.\n",
    "import nltk\n",
    "\n",
    "nltk.download('stopwords')\n",
    "\n",
    "# Verificamos descarga\n",
    "nltk.corpus.stopwords.words('english')"
   ]
  },
  {
   "cell_type": "code",
   "execution_count": null,
   "metadata": {},
   "outputs": [],
   "source": [
    "# creamos bow usando CountVectorizer. \n",
    "# punto extra, investigar otra embedding diferente a bow.\n",
    "\n",
    "MIN_NGRAM = 1\n",
    "MAX_NGRAM = 1\n",
    "MIN_DF = 5\n",
    "MAX_DF = 2500\n",
    "\n",
    "corpus = ds.iloc[:,6].apply(lambda x: np.str_(x))\n",
    "vectorizer = CountVectorizer(\n",
    "    ngram_range=(MIN_NGRAM, MAX_NGRAM),\n",
    "    min_df= MIN_DF,\n",
    "    max_df= MAX_DF,\n",
    "    stop_words=stopwords.words('english')\n",
    ")\n",
    "\n",
    "# Esta salida, es la que deben usar como input en sus modelos de ML.\n",
    "X = vectorizer.fit_transform(corpus)"
   ]
  },
  {
   "cell_type": "code",
   "execution_count": null,
   "metadata": {},
   "outputs": [],
   "source": [
    "# implementación de modelos"
   ]
  },
  {
   "cell_type": "code",
   "execution_count": null,
   "metadata": {},
   "outputs": [],
   "source": [
    "# cálculo de las métricas de los modelos implementados."
   ]
  }
 ],
 "metadata": {
  "colab": {
   "name": "mentoria-tp3-aprendizaje-automatico.ipynb",
   "provenance": []
  },
  "kernelspec": {
   "display_name": "Python 3",
   "language": "python",
   "name": "python3"
  },
  "language_info": {
   "codemirror_mode": {
    "name": "ipython",
    "version": 3
   },
   "file_extension": ".py",
   "mimetype": "text/x-python",
   "name": "python",
   "nbconvert_exporter": "python",
   "pygments_lexer": "ipython3",
   "version": "3.7.7"
  }
 },
 "nbformat": 4,
 "nbformat_minor": 4
}
